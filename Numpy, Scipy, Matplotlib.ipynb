{
 "cells": [
  {
   "cell_type": "code",
   "execution_count": 1,
   "metadata": {
    "collapsed": false
   },
   "outputs": [
    {
     "name": "stdout",
     "output_type": "stream",
     "text": [
      "[0, 1, 2, 3, 4]\n"
     ]
    }
   ],
   "source": [
    "nums = range(5)\n",
    "print nums"
   ]
  },
  {
   "cell_type": "code",
   "execution_count": 4,
   "metadata": {
    "collapsed": false
   },
   "outputs": [
    {
     "name": "stdout",
     "output_type": "stream",
     "text": [
      "[0, 10, 11]\n"
     ]
    }
   ],
   "source": [
    "nums[1:] = [10,11]\n",
    "print nums"
   ]
  },
  {
   "cell_type": "code",
   "execution_count": 5,
   "metadata": {
    "collapsed": false
   },
   "outputs": [
    {
     "name": "stdout",
     "output_type": "stream",
     "text": [
      "#1. cat\n",
      "#2. dog\n",
      "#3. horse\n"
     ]
    }
   ],
   "source": [
    "animals = ['cat','dog','horse']\n",
    "for idx,animal in enumerate(animals):#enumerate func is used for getting the index\n",
    "    print \"#%d. %s\"%(idx+1,animal)"
   ]
  },
  {
   "cell_type": "code",
   "execution_count": 6,
   "metadata": {
    "collapsed": false
   },
   "outputs": [
    {
     "name": "stdout",
     "output_type": "stream",
     "text": [
      "[0, 1, 8, 27, 64]\n"
     ]
    }
   ],
   "source": [
    "#List comprehension\n",
    "nums = range(5)\n",
    "cubes = [x**3 for x in nums]#form a list with each value of x\n",
    "print cubes"
   ]
  },
  {
   "cell_type": "code",
   "execution_count": 7,
   "metadata": {
    "collapsed": false
   },
   "outputs": [
    {
     "ename": "SyntaxError",
     "evalue": "invalid syntax (<ipython-input-7-60599b631cfe>, line 3)",
     "output_type": "error",
     "traceback": [
      "\u001b[1;36m  File \u001b[1;32m\"<ipython-input-7-60599b631cfe>\"\u001b[1;36m, line \u001b[1;32m3\u001b[0m\n\u001b[1;33m    cubes = [x**3 for x in num: if x%2==0]\u001b[0m\n\u001b[1;37m                              ^\u001b[0m\n\u001b[1;31mSyntaxError\u001b[0m\u001b[1;31m:\u001b[0m invalid syntax\n"
     ]
    }
   ],
   "source": [
    "#List comprehension with condition\n",
    "num = range(0,100,3)\n",
    "cubes = [x**3 for x in num: if x%2==0]\n",
    "print cubes"
   ]
  },
  {
   "cell_type": "code",
   "execution_count": 8,
   "metadata": {
    "collapsed": false
   },
   "outputs": [
    {
     "name": "stdout",
     "output_type": "stream",
     "text": [
      "[0, 216, 1728, 5832, 13824, 27000, 46656, 74088, 110592, 157464, 216000, 287496, 373248, 474552, 592704, 729000, 884736]\n"
     ]
    }
   ],
   "source": [
    "num = range(0,100,3)\n",
    "cubes = [x**3 for x in num if x%2==0]\n",
    "print cubes"
   ]
  },
  {
   "cell_type": "code",
   "execution_count": 9,
   "metadata": {
    "collapsed": false
   },
   "outputs": [
    {
     "name": "stdout",
     "output_type": "stream",
     "text": [
      "{'goat': 'mah mah', 'dog': 'bhow bhow', 'cat': 'mew'}\n"
     ]
    }
   ],
   "source": [
    "d = {'cat':'mew', 'dog':'bhow bhow', 'goat':'mah mah'}\n",
    "print d"
   ]
  },
  {
   "cell_type": "code",
   "execution_count": 10,
   "metadata": {
    "collapsed": false
   },
   "outputs": [
    {
     "name": "stdout",
     "output_type": "stream",
     "text": [
      "True\n"
     ]
    }
   ],
   "source": [
    "print 'goat' in d#check if element exists"
   ]
  },
  {
   "cell_type": "code",
   "execution_count": 11,
   "metadata": {
    "collapsed": false
   },
   "outputs": [
    {
     "data": {
      "text/plain": [
       "{'Subhankar': 'Yippee', 'cat': 'mew', 'dog': 'bhow bhow', 'goat': 'mah mah'}"
      ]
     },
     "execution_count": 11,
     "metadata": {},
     "output_type": "execute_result"
    }
   ],
   "source": [
    "d['Subhankar'] = 'Yippee'\n",
    "d"
   ]
  },
  {
   "cell_type": "code",
   "execution_count": 12,
   "metadata": {
    "collapsed": false
   },
   "outputs": [
    {
     "name": "stdout",
     "output_type": "stream",
     "text": [
      "NA\n"
     ]
    }
   ],
   "source": [
    "print d.get('Hippo','NA')"
   ]
  },
  {
   "cell_type": "code",
   "execution_count": 14,
   "metadata": {
    "collapsed": false
   },
   "outputs": [
    {
     "name": "stdout",
     "output_type": "stream",
     "text": [
      "Yippee\n"
     ]
    }
   ],
   "source": [
    "print d.get('Subhankar','NA')"
   ]
  },
  {
   "cell_type": "code",
   "execution_count": 16,
   "metadata": {
    "collapsed": false
   },
   "outputs": [
    {
     "data": {
      "text/plain": [
       "{'Subhankar': 'Yippee', 'cat': 'mew', 'dog': 'bhow bhow'}"
      ]
     },
     "execution_count": 16,
     "metadata": {},
     "output_type": "execute_result"
    }
   ],
   "source": [
    "del d['goat']\n",
    "d"
   ]
  },
  {
   "cell_type": "code",
   "execution_count": 17,
   "metadata": {
    "collapsed": false
   },
   "outputs": [
    {
     "name": "stdout",
     "output_type": "stream",
     "text": [
      "NA\n"
     ]
    }
   ],
   "source": [
    "print d.get('goat','NA')"
   ]
  },
  {
   "cell_type": "code",
   "execution_count": 18,
   "metadata": {
    "collapsed": false
   },
   "outputs": [
    {
     "data": {
      "text/plain": [
       "{'Subhankar': 'Yippee', 'cat': 'mew', 'dog': 'bhow bhow'}"
      ]
     },
     "execution_count": 18,
     "metadata": {},
     "output_type": "execute_result"
    }
   ],
   "source": [
    "d"
   ]
  },
  {
   "cell_type": "code",
   "execution_count": 20,
   "metadata": {
    "collapsed": false
   },
   "outputs": [
    {
     "name": "stdout",
     "output_type": "stream",
     "text": [
      "dog says bhow bhow\n",
      "Subhankar says Yippee\n",
      "cat says mew\n"
     ]
    }
   ],
   "source": [
    "#Iterate over the keys in the dictionary\n",
    "for x,y in d.iteritems():\n",
    "    print \"%s says %s\"%(x,y)"
   ]
  },
  {
   "cell_type": "code",
   "execution_count": 21,
   "metadata": {
    "collapsed": false
   },
   "outputs": [
    {
     "name": "stdout",
     "output_type": "stream",
     "text": [
      "[0, 3, 6, 9, 12, 15, 18, 21, 24, 27, 30, 33, 36, 39, 42, 45, 48, 51, 54, 57, 60, 63, 66, 69, 72, 75, 78, 81, 84, 87, 90, 93, 96, 99]\n"
     ]
    }
   ],
   "source": [
    "nums = range(0,100,3)\n",
    "print nums"
   ]
  },
  {
   "cell_type": "code",
   "execution_count": 22,
   "metadata": {
    "collapsed": false
   },
   "outputs": [
    {
     "name": "stdout",
     "output_type": "stream",
     "text": [
      "{0: 0, 96: 884736, 66: 287496, 36: 46656, 6: 216, 72: 373248, 42: 74088, 12: 1728, 78: 474552, 48: 110592, 18: 5832, 84: 592704, 54: 157464, 24: 13824, 90: 729000, 60: 216000, 30: 27000}\n"
     ]
    }
   ],
   "source": [
    "#Build a dict of cubes which are divisible by 6\n",
    "num2cubes = {x:x**3 for x in nums if x**3 %6 == 0}\n",
    "print num2cubes"
   ]
  },
  {
   "cell_type": "code",
   "execution_count": 23,
   "metadata": {
    "collapsed": false
   },
   "outputs": [
    {
     "data": {
      "text/plain": [
       "{'Subhankar': 'Yippee', 'cat': 'mew', 'dog': 'bhow bhow'}"
      ]
     },
     "execution_count": 23,
     "metadata": {},
     "output_type": "execute_result"
    }
   ],
   "source": [
    "d"
   ]
  },
  {
   "cell_type": "code",
   "execution_count": 24,
   "metadata": {
    "collapsed": false
   },
   "outputs": [
    {
     "data": {
      "text/plain": [
       "['dog', 'Subhankar', 'cat']"
      ]
     },
     "execution_count": 24,
     "metadata": {},
     "output_type": "execute_result"
    }
   ],
   "source": [
    "types = d.keys()\n",
    "types"
   ]
  },
  {
   "cell_type": "code",
   "execution_count": 25,
   "metadata": {
    "collapsed": false
   },
   "outputs": [
    {
     "data": {
      "text/plain": [
       "{'Subhankar', 'cat', 'dog'}"
      ]
     },
     "execution_count": 25,
     "metadata": {},
     "output_type": "execute_result"
    }
   ],
   "source": [
    "types = set(types)#List2Set\n",
    "types"
   ]
  },
  {
   "cell_type": "code",
   "execution_count": 26,
   "metadata": {
    "collapsed": false
   },
   "outputs": [
    {
     "name": "stdout",
     "output_type": "stream",
     "text": [
      "True\n"
     ]
    }
   ],
   "source": [
    "print 'cat' in types"
   ]
  },
  {
   "cell_type": "code",
   "execution_count": 27,
   "metadata": {
    "collapsed": false
   },
   "outputs": [
    {
     "data": {
      "text/plain": [
       "{'Subhankar', 'cat', 'dog', 'goat'}"
      ]
     },
     "execution_count": 27,
     "metadata": {},
     "output_type": "execute_result"
    }
   ],
   "source": [
    "types.add('goat')\n",
    "types"
   ]
  },
  {
   "cell_type": "code",
   "execution_count": 28,
   "metadata": {
    "collapsed": false
   },
   "outputs": [
    {
     "data": {
      "text/plain": [
       "{'Subhankar', 'cat', 'goat'}"
      ]
     },
     "execution_count": 28,
     "metadata": {},
     "output_type": "execute_result"
    }
   ],
   "source": [
    "types.remove('dog')\n",
    "types"
   ]
  },
  {
   "cell_type": "code",
   "execution_count": 30,
   "metadata": {
    "collapsed": false
   },
   "outputs": [
    {
     "name": "stdout",
     "output_type": "stream",
     "text": [
      "#1.goat\n",
      "#2.Subhankar\n",
      "#3.cat\n"
     ]
    }
   ],
   "source": [
    "#Iterate over the set\n",
    "for idx,type in enumerate(types):\n",
    "    print \"#%d.%s\"%(idx+1,type)#set has no order of storing the items. so it prints randomly"
   ]
  },
  {
   "cell_type": "code",
   "execution_count": 33,
   "metadata": {
    "collapsed": false
   },
   "outputs": [
    {
     "name": "stdout",
     "output_type": "stream",
     "text": [
      "set([2.0, 3.0, 4.0, 5.0, 7.0])\n"
     ]
    }
   ],
   "source": [
    "from math import floor,sqrt\n",
    "nums = range(0,50,7)\n",
    "floors = {floor(sqrt(x)) for x in nums if x%6!=0}\n",
    "print floors"
   ]
  },
  {
   "cell_type": "code",
   "execution_count": 34,
   "metadata": {
    "collapsed": false
   },
   "outputs": [
    {
     "data": {
      "text/plain": [
       "{(0, 1): 0,\n",
       " (1, 2): 1,\n",
       " (2, 3): 2,\n",
       " (3, 4): 3,\n",
       " (4, 5): 4,\n",
       " (5, 6): 5,\n",
       " (6, 7): 6,\n",
       " (7, 8): 7,\n",
       " (8, 9): 8,\n",
       " (9, 10): 9}"
      ]
     },
     "execution_count": 34,
     "metadata": {},
     "output_type": "execute_result"
    }
   ],
   "source": [
    "d = {(x, x + 1): x for x in range(10)}\n",
    "d"
   ]
  },
  {
   "cell_type": "code",
   "execution_count": 35,
   "metadata": {
    "collapsed": false
   },
   "outputs": [
    {
     "name": "stdout",
     "output_type": "stream",
     "text": [
      "True\n"
     ]
    }
   ],
   "source": [
    "t = (2,3)\n",
    "print t in d.keys()"
   ]
  },
  {
   "cell_type": "code",
   "execution_count": 36,
   "metadata": {
    "collapsed": false
   },
   "outputs": [
    {
     "data": {
      "text/plain": [
       "2"
      ]
     },
     "execution_count": 36,
     "metadata": {},
     "output_type": "execute_result"
    }
   ],
   "source": [
    "d[t]"
   ]
  },
  {
   "cell_type": "code",
   "execution_count": 3,
   "metadata": {
    "collapsed": false
   },
   "outputs": [
    {
     "name": "stdout",
     "output_type": "stream",
     "text": [
      "Hello Subhankar\n",
      "HELLO SOURAV\n"
     ]
    }
   ],
   "source": [
    "def hey(name, case=False):\n",
    "    if case:\n",
    "        print \"HELLO %s\"%(name.upper())\n",
    "    else:\n",
    "        print \"Hello %s\"%(name)\n",
    "hey(\"Subhankar\")\n",
    "hey(\"Sourav\", True)"
   ]
  },
  {
   "cell_type": "code",
   "execution_count": 1,
   "metadata": {
    "collapsed": false
   },
   "outputs": [
    {
     "name": "stdout",
     "output_type": "stream",
     "text": [
      "Hello Subhankar\n",
      "HELLO SOURAV\n"
     ]
    }
   ],
   "source": [
    "class Greet(object):\n",
    "    def __init__(self, name):\n",
    "        self.name=name\n",
    "    def hey(self, case=False):\n",
    "        if case:\n",
    "            print \"HELLO %s\"%(self.name.upper())\n",
    "        else:\n",
    "            print \"Hello %s\"%(self.name)\n",
    "obj = Greet(\"Subhankar\")\n",
    "obj.hey()\n",
    "obj2 = Greet(\"Sourav\")\n",
    "obj2.hey(True)"
   ]
  },
  {
   "cell_type": "code",
   "execution_count": 6,
   "metadata": {
    "collapsed": false
   },
   "outputs": [
    {
     "name": "stdout",
     "output_type": "stream",
     "text": [
      "<type 'numpy.ndarray'> [0 1 2 3 4 5 6 7 8 9]\n",
      "(10,)\n",
      "2\n",
      "[ 0  1 34  3  4  5  6  7  8  9]\n"
     ]
    }
   ],
   "source": [
    "import numpy as np\n",
    "a = np.array(range(10))\n",
    "print type(a), a\n",
    "print a.shape\n",
    "print a[2]\n",
    "a[2]= 34\n",
    "print a"
   ]
  },
  {
   "cell_type": "code",
   "execution_count": 9,
   "metadata": {
    "collapsed": false
   },
   "outputs": [
    {
     "name": "stdout",
     "output_type": "stream",
     "text": [
      "3 8\n",
      "(2,)\n",
      "[[ 0  3  6  9 12 15 18]\n",
      " [20 23 26 29 32 35 38]] (2, 7)\n"
     ]
    }
   ],
   "source": [
    "b = np.array([range(5), range(10)])\n",
    "print b[0][3], b[1][8]# same as [0,3] & [1,8]\n",
    "print b.shape\n",
    "c = np.array([range(0,20,3), range(20,40,3)])\n",
    "print c, c.shape"
   ]
  },
  {
   "cell_type": "code",
   "execution_count": 13,
   "metadata": {
    "collapsed": false
   },
   "outputs": [
    {
     "name": "stdout",
     "output_type": "stream",
     "text": [
      "[[ 0.  0.  0.  0.  0.]\n",
      " [ 0.  0.  0.  0.  0.]\n",
      " [ 0.  0.  0.  0.  0.]\n",
      " [ 0.  0.  0.  0.  0.]\n",
      " [ 0.  0.  0.  0.  0.]]\n",
      "[[ 1.  1.  1.  1.]\n",
      " [ 1.  1.  1.  1.]\n",
      " [ 1.  1.  1.  1.]\n",
      " [ 1.  1.  1.  1.]]\n",
      "[[ 8.  8.  8.  8.  8.]\n",
      " [ 8.  8.  8.  8.  8.]\n",
      " [ 8.  8.  8.  8.  8.]\n",
      " [ 8.  8.  8.  8.  8.]\n",
      " [ 8.  8.  8.  8.  8.]]\n",
      "[ 4.  4.  4.  4.  4.  4.  4.  4.  4.  4.]\n",
      "[[ 1.  0.  0.  0.]\n",
      " [ 0.  1.  0.  0.]\n",
      " [ 0.  0.  1.  0.]\n",
      " [ 0.  0.  0.  1.]]\n",
      "[[ 0.35933517  0.50348109  0.18362744]\n",
      " [ 0.85947691  0.73092944  0.73935281]\n",
      " [ 0.64236832  0.75558051  0.16715916]]\n"
     ]
    }
   ],
   "source": [
    "d = np.zeros((5,5))\n",
    "print d\n",
    "\n",
    "e = np.ones((4,4))\n",
    "print e\n",
    "\n",
    "f = np.full((5,5),8)\n",
    "print f\n",
    "\n",
    "g = np.full((10),4)\n",
    "print g\n",
    "\n",
    "h = np.eye(4)\n",
    "print h\n",
    "\n",
    "i = np.random.random((3,3))\n",
    "print i"
   ]
  },
  {
   "cell_type": "code",
   "execution_count": 14,
   "metadata": {
    "collapsed": false
   },
   "outputs": [
    {
     "data": {
      "text/plain": [
       "array([[2, 3],\n",
       "       [6, 7]])"
      ]
     },
     "execution_count": 14,
     "metadata": {},
     "output_type": "execute_result"
    }
   ],
   "source": [
    "a = np.array([[1,2,3,4],[5,6,7,8],[9,10,11,12]])\n",
    "suba = a[:2,1:3]\n",
    "suba"
   ]
  },
  {
   "cell_type": "code",
   "execution_count": 16,
   "metadata": {
    "collapsed": false
   },
   "outputs": [
    {
     "name": "stdout",
     "output_type": "stream",
     "text": [
      "[[ 1  2  3  4]\n",
      " [ 5  6  7  8]\n",
      " [ 9 10 11 12]]\n"
     ]
    }
   ],
   "source": [
    "suba = np.array([[12, 13], [16, 17]])\n",
    "print a"
   ]
  },
  {
   "cell_type": "code",
   "execution_count": 19,
   "metadata": {
    "collapsed": false
   },
   "outputs": [
    {
     "name": "stdout",
     "output_type": "stream",
     "text": [
      "[[  1   2  99   4]\n",
      " [  5 153   7   8]\n",
      " [  9  10  11  12]]\n"
     ]
    }
   ],
   "source": [
    "suba = a[:2,1:3]\n",
    "suba[0,1] = 99\n",
    "suba[1,0] = 153\n",
    "print a"
   ]
  },
  {
   "cell_type": "code",
   "execution_count": 24,
   "metadata": {
    "collapsed": false
   },
   "outputs": [
    {
     "name": "stdout",
     "output_type": "stream",
     "text": [
      "[5 6 7 8] [[5 6 7 8]]\n",
      "(4,) (1, 4)\n"
     ]
    }
   ],
   "source": [
    "a = np.array([[1,2,3,4],[5,6,7,8],[9,10,11,12]])\n",
    "rr1 = a[1,:]\n",
    "rr2 = a[1:2,:]\n",
    "print rr1, rr2\n",
    "print rr1.shape, rr2.shape# Rank 1 & Rank 2 views respectively"
   ]
  },
  {
   "cell_type": "code",
   "execution_count": 25,
   "metadata": {
    "collapsed": false
   },
   "outputs": [
    {
     "name": "stdout",
     "output_type": "stream",
     "text": [
      "[ 2  6 10] [[ 2]\n",
      " [ 6]\n",
      " [10]] (3,) (3, 1)\n"
     ]
    }
   ],
   "source": [
    "cr1 = a[:,1]\n",
    "cr2 = a[:,1:2]\n",
    "print cr1, cr2, cr1.shape, cr2.shape"
   ]
  },
  {
   "cell_type": "code",
   "execution_count": 2,
   "metadata": {
    "collapsed": false
   },
   "outputs": [
    {
     "name": "stdout",
     "output_type": "stream",
     "text": [
      "[1 4 5]\n"
     ]
    }
   ],
   "source": [
    "import numpy as np\n",
    "a = np.array([[1,2], [3, 4], [5, 6]])\n",
    "print a[[0, 1, 2], [0, 1, 0]]"
   ]
  },
  {
   "cell_type": "code",
   "execution_count": 3,
   "metadata": {
    "collapsed": false
   },
   "outputs": [
    {
     "name": "stdout",
     "output_type": "stream",
     "text": [
      "[2 3 6]\n",
      "[3 5]\n"
     ]
    }
   ],
   "source": [
    "print a[[0,1,2],[1,0,1]]#[2,3,6] converts to[0,1][1,0][2,1]\n",
    "print a[[1,2],[0,0]]#[3,5]"
   ]
  },
  {
   "cell_type": "code",
   "execution_count": 4,
   "metadata": {
    "collapsed": false
   },
   "outputs": [
    {
     "name": "stdout",
     "output_type": "stream",
     "text": [
      "[2 3 6]\n"
     ]
    }
   ],
   "source": [
    "print np.array([a[0,1],a[1,0],a[2,1]])"
   ]
  },
  {
   "cell_type": "code",
   "execution_count": 9,
   "metadata": {
    "collapsed": false
   },
   "outputs": [
    {
     "name": "stdout",
     "output_type": "stream",
     "text": [
      "[ 3  5  9 10]\n"
     ]
    }
   ],
   "source": [
    "a = np.array([[1,2,3],[4,5,6],[7,8,9],[10,11,12]])\n",
    "b = np.array([2,1,2,0])\n",
    "print a[np.arange(4), b]#http://sage.math.canterbury.ac.nz/home/pub/72/cells/132/docs-0.html"
   ]
  },
  {
   "cell_type": "code",
   "execution_count": 10,
   "metadata": {
    "collapsed": false
   },
   "outputs": [
    {
     "name": "stdout",
     "output_type": "stream",
     "text": [
      "[[ 1  2 53]\n",
      " [ 4 55  6]\n",
      " [ 7  8 59]\n",
      " [60 11 12]]\n"
     ]
    }
   ],
   "source": [
    "a[np.arange(4), b] += 50\n",
    "print a"
   ]
  },
  {
   "cell_type": "code",
   "execution_count": 23,
   "metadata": {
    "collapsed": false
   },
   "outputs": [
    {
     "name": "stdout",
     "output_type": "stream",
     "text": [
      "[[False  True False]\n",
      " [False False False]\n",
      " [False False False]\n",
      " [False False False]]\n"
     ]
    }
   ],
   "source": [
    "a = np.array([[1,2,3],[4,5,6],[6,7,8],[9,10,11]])\n",
    "boolidx = ( a==2)\n",
    "print boolidx"
   ]
  },
  {
   "cell_type": "code",
   "execution_count": 24,
   "metadata": {
    "collapsed": false
   },
   "outputs": [
    {
     "name": "stdout",
     "output_type": "stream",
     "text": [
      "[[False False  True]\n",
      " [ True  True  True]\n",
      " [ True  True  True]\n",
      " [ True  True  True]]\n"
     ]
    }
   ],
   "source": [
    "boolidx = (a > 2)\n",
    "print boolidx"
   ]
  },
  {
   "cell_type": "code",
   "execution_count": 25,
   "metadata": {
    "collapsed": false
   },
   "outputs": [
    {
     "name": "stdout",
     "output_type": "stream",
     "text": [
      "[[False False]\n",
      " [ True  True]\n",
      " [ True  True]]\n"
     ]
    }
   ],
   "source": [
    "a = np.array([[1,2], [3, 4], [5, 6]])\n",
    "bool_idx = (a > 2)\n",
    "print bool_idx"
   ]
  },
  {
   "cell_type": "code",
   "execution_count": 26,
   "metadata": {
    "collapsed": false
   },
   "outputs": [
    {
     "name": "stdout",
     "output_type": "stream",
     "text": [
      "[[False False]\n",
      " [False False]\n",
      " [ True  True]]\n"
     ]
    }
   ],
   "source": [
    "boolidx = (a > 4)\n",
    "print boolidx"
   ]
  },
  {
   "cell_type": "code",
   "execution_count": 28,
   "metadata": {
    "collapsed": false
   },
   "outputs": [
    {
     "name": "stdout",
     "output_type": "stream",
     "text": [
      "[ 3  4  5  6  6  7  8  9 10 11]\n",
      "[ 3  4  5  6  6  7  8  9 10 11]\n"
     ]
    }
   ],
   "source": [
    "a = np.array([[1,2,3],[4,5,6],[6,7,8],[9,10,11]])\n",
    "boolidx = (a>2)\n",
    "print a[boolidx]\n",
    "print a[a>2]"
   ]
  },
  {
   "cell_type": "code",
   "execution_count": 31,
   "metadata": {
    "collapsed": false
   },
   "outputs": [
    {
     "name": "stdout",
     "output_type": "stream",
     "text": [
      "[[ 12  14  16]\n",
      " [ 18  20  22]\n",
      " [ 22  24  26]\n",
      " [ 28 120 122]]\n",
      "[[ -10  -10  -10]\n",
      " [ -10  -10  -10]\n",
      " [ -10  -10  -10]\n",
      " [ -10 -100 -100]]\n",
      "[[  11   24   39]\n",
      " [  56   75   96]\n",
      " [  96  119  144]\n",
      " [ 171 1100 1221]]\n",
      "[[0 0 0]\n",
      " [0 0 0]\n",
      " [0 0 0]\n",
      " [0 0 0]]\n"
     ]
    }
   ],
   "source": [
    "a = np.array([[1,2,3],[4,5,6],[6,7,8],[9,10,11]])\n",
    "b = np.array([[11,12,13],[14,15,16],[16,17,18],[19,110,111]])\n",
    "print np.add(a,b)\n",
    "print np.subtract(a,b)\n",
    "print np.multiply(a,b)\n",
    "print np.divide(a,b)"
   ]
  },
  {
   "cell_type": "code",
   "execution_count": 32,
   "metadata": {
    "collapsed": false
   },
   "outputs": [
    {
     "name": "stdout",
     "output_type": "stream",
     "text": [
      "[[ 0.09090909  0.16666667  0.23076923]\n",
      " [ 0.28571429  0.33333333  0.375     ]\n",
      " [ 0.375       0.41176471  0.44444444]\n",
      " [ 0.47368421  0.09090909  0.0990991 ]]\n"
     ]
    }
   ],
   "source": [
    "a = np.array([[1,2,3],[4,5,6],[6,7,8],[9,10,11]], dtype=np.float64)\n",
    "b = np.array([[11,12,13],[14,15,16],[16,17,18],[19,110,111]], dtype=np.float64)\n",
    "print np.divide(a,b)"
   ]
  },
  {
   "cell_type": "code",
   "execution_count": 33,
   "metadata": {
    "collapsed": false
   },
   "outputs": [
    {
     "name": "stdout",
     "output_type": "stream",
     "text": [
      "[[  3.31662479   3.46410162   3.60555128]\n",
      " [  3.74165739   3.87298335   4.        ]\n",
      " [  4.           4.12310563   4.24264069]\n",
      " [  4.35889894  10.48808848  10.53565375]]\n"
     ]
    }
   ],
   "source": [
    "print np.sqrt(b)"
   ]
  },
  {
   "cell_type": "code",
   "execution_count": 35,
   "metadata": {
    "collapsed": false
   },
   "outputs": [
    {
     "name": "stdout",
     "output_type": "stream",
     "text": [
      "[[ 87  93  99]\n",
      " [210 225 240]\n",
      " [292 313 334]\n",
      " [415 445 475]]\n"
     ]
    }
   ],
   "source": [
    "a = np.array([[1,2,3],[4,5,6],[6,7,8],[9,10,11]])\n",
    "b = np.array([[11,12,13],[14,15,16],[16,17,18]])\n",
    "print np.dot(a,b)"
   ]
  },
  {
   "cell_type": "code",
   "execution_count": 36,
   "metadata": {
    "collapsed": false
   },
   "outputs": [
    {
     "name": "stdout",
     "output_type": "stream",
     "text": [
      "[29 67]\n",
      "[39 58]\n"
     ]
    }
   ],
   "source": [
    "x = np.array([[1,2],[3,4]])\n",
    "y = np.array([[5,6],[7,8]])\n",
    "\n",
    "v = np.array([9,10])\n",
    "w = np.array([11, 12])\n",
    "print np.dot(x,v)\n",
    "print np.dot(v,x)"
   ]
  },
  {
   "cell_type": "code",
   "execution_count": 37,
   "metadata": {
    "collapsed": false
   },
   "outputs": [
    {
     "name": "stdout",
     "output_type": "stream",
     "text": [
      "72\n"
     ]
    }
   ],
   "source": [
    "a = np.array([[1,2,3],[4,5,6],[6,7,8],[9,10,11]])\n",
    "b = np.array([[11,12,13],[14,15,16],[16,17,18]])\n",
    "print np.sum(a)"
   ]
  },
  {
   "cell_type": "code",
   "execution_count": 39,
   "metadata": {
    "collapsed": false
   },
   "outputs": [
    {
     "name": "stdout",
     "output_type": "stream",
     "text": [
      "[20 24 28]\n",
      "[36 45 51]\n"
     ]
    }
   ],
   "source": [
    "print np.sum(a,axis=0)#Compute sum of each column\n",
    "print np.sum(b,axis=1)#Compute sum of each row"
   ]
  },
  {
   "cell_type": "code",
   "execution_count": 40,
   "metadata": {
    "collapsed": false
   },
   "outputs": [
    {
     "name": "stdout",
     "output_type": "stream",
     "text": [
      "[[ 1  2  3]\n",
      " [ 4  5  6]\n",
      " [ 6  7  8]\n",
      " [ 9 10 11]]\n",
      "[[ 1  4  6  9]\n",
      " [ 2  5  7 10]\n",
      " [ 3  6  8 11]]\n"
     ]
    }
   ],
   "source": [
    "print a\n",
    "print a.T#Transpose"
   ]
  },
  {
   "cell_type": "code",
   "execution_count": 5,
   "metadata": {
    "collapsed": false
   },
   "outputs": [
    {
     "name": "stdout",
     "output_type": "stream",
     "text": [
      "[[  11  102 1003]\n",
      " [  14  105 1006]\n",
      " [  17  108 1009]\n",
      " [  10   11   12]]\n"
     ]
    }
   ],
   "source": [
    "import numpy as np\n",
    "x = np.array([[1,2,3],[4,5,6],[7,8,9],[10,11,12]])\n",
    "y = np.array([10,100,1000])\n",
    "v = np.empty_like(x)\n",
    "for i in range(3):\n",
    "    v[i,:] = x[i,:] + y\n",
    "print v"
   ]
  },
  {
   "cell_type": "code",
   "execution_count": 7,
   "metadata": {
    "collapsed": false
   },
   "outputs": [
    {
     "name": "stdout",
     "output_type": "stream",
     "text": [
      "[[[  10  100 1000]\n",
      "  [  10  100 1000]]\n",
      "\n",
      " [[  10  100 1000]\n",
      "  [  10  100 1000]]\n",
      "\n",
      " [[  10  100 1000]\n",
      "  [  10  100 1000]]]\n"
     ]
    }
   ],
   "source": [
    "yy = np.tile(y, (3,2,1))#Order:No. of grids, No. of rows, No. of Columns\n",
    "print yy"
   ]
  },
  {
   "cell_type": "code",
   "execution_count": 8,
   "metadata": {
    "collapsed": false
   },
   "outputs": [
    {
     "name": "stdout",
     "output_type": "stream",
     "text": [
      "[[[  10  100 1000   10  100 1000   10  100 1000]\n",
      "  [  10  100 1000   10  100 1000   10  100 1000]]]\n"
     ]
    }
   ],
   "source": [
    "zz = np.tile(y,(1,2,3))\n",
    "print zz"
   ]
  },
  {
   "cell_type": "code",
   "execution_count": 12,
   "metadata": {
    "collapsed": false
   },
   "outputs": [
    {
     "name": "stdout",
     "output_type": "stream",
     "text": [
      "[[  11  102 1003]\n",
      " [  14  105 1006]\n",
      " [  17  108 1009]\n",
      " [  20  111 1012]]\n",
      "[[  10  100 1000]\n",
      " [  10  100 1000]\n",
      " [  10  100 1000]\n",
      " [  10  100 1000]]\n"
     ]
    }
   ],
   "source": [
    "yyy = np.tile(y,(4,1))\n",
    "xx = x + yyy\n",
    "print xx\n",
    "print yyy"
   ]
  },
  {
   "cell_type": "code",
   "execution_count": 13,
   "metadata": {
    "collapsed": false
   },
   "outputs": [
    {
     "name": "stdout",
     "output_type": "stream",
     "text": [
      "[[  11  102 1003]\n",
      " [  14  105 1006]\n",
      " [  17  108 1009]\n",
      " [  20  111 1012]]\n"
     ]
    }
   ],
   "source": [
    "xxx = x + y\n",
    "print xxx"
   ]
  },
  {
   "cell_type": "code",
   "execution_count": 14,
   "metadata": {
    "collapsed": false
   },
   "outputs": [
    {
     "name": "stdout",
     "output_type": "stream",
     "text": [
      "[[  10  100 1000   10  100 1000   10  100 1000   10  100 1000]]\n"
     ]
    }
   ],
   "source": [
    "yyyy = np.tile(y,(1,4))\n",
    "print yyyy"
   ]
  },
  {
   "cell_type": "code",
   "execution_count": 16,
   "metadata": {
    "collapsed": false
   },
   "outputs": [
    {
     "name": "stdout",
     "output_type": "stream",
     "text": [
      "[1 2 3]\n",
      "[[1]\n",
      " [2]\n",
      " [3]]\n"
     ]
    }
   ],
   "source": [
    "v = np.array([1,2,3])\n",
    "w = np.array([4,5])\n",
    "vv = np.reshape(v,(3,1))\n",
    "print v\n",
    "print vv"
   ]
  },
  {
   "cell_type": "code",
   "execution_count": 17,
   "metadata": {
    "collapsed": false
   },
   "outputs": [
    {
     "name": "stdout",
     "output_type": "stream",
     "text": [
      "[[ 4  5]\n",
      " [ 8 10]\n",
      " [12 15]]\n"
     ]
    }
   ],
   "source": [
    "print vv * w"
   ]
  },
  {
   "cell_type": "code",
   "execution_count": 21,
   "metadata": {
    "collapsed": false
   },
   "outputs": [
    {
     "name": "stdout",
     "output_type": "stream",
     "text": [
      "[[ 1  2  3]\n",
      " [ 4  5  6]\n",
      " [ 7  8  9]\n",
      " [10 11 12]]\n"
     ]
    }
   ],
   "source": [
    "print x\n",
    "w = [4,5,6,7]"
   ]
  },
  {
   "cell_type": "code",
   "execution_count": 24,
   "metadata": {
    "collapsed": false
   },
   "outputs": [
    {
     "name": "stdout",
     "output_type": "stream",
     "text": [
      "[[ 5  7  9]\n",
      " [ 8 10 12]\n",
      " [11 13 15]\n",
      " [14 16 18]]\n"
     ]
    }
   ],
   "source": [
    "print x + w"
   ]
  },
  {
   "cell_type": "code",
   "execution_count": 25,
   "metadata": {
    "collapsed": false
   },
   "outputs": [
    {
     "data": {
      "text/plain": [
       "array([[ 1,  4,  7, 10],\n",
       "       [ 2,  5,  8, 11],\n",
       "       [ 3,  6,  9, 12]])"
      ]
     },
     "execution_count": 25,
     "metadata": {},
     "output_type": "execute_result"
    }
   ],
   "source": [
    "x.T"
   ]
  },
  {
   "cell_type": "code",
   "execution_count": 30,
   "metadata": {
    "collapsed": false
   },
   "outputs": [
    {
     "name": "stdout",
     "output_type": "stream",
     "text": [
      "[[1 2 3]\n",
      " [4 5 6]]\n",
      "[4 5]\n"
     ]
    }
   ],
   "source": [
    "x = np.array([[1,2,3], [4,5,6]])\n",
    "w = np.array([4,5])\n",
    "print x\n",
    "print w"
   ]
  },
  {
   "cell_type": "code",
   "execution_count": 31,
   "metadata": {
    "collapsed": false
   },
   "outputs": [
    {
     "name": "stdout",
     "output_type": "stream",
     "text": [
      "[[ 5  6  7]\n",
      " [ 9 10 11]]\n"
     ]
    }
   ],
   "source": [
    "print (x.T + w).T"
   ]
  },
  {
   "cell_type": "code",
   "execution_count": 33,
   "metadata": {
    "collapsed": false
   },
   "outputs": [
    {
     "name": "stdout",
     "output_type": "stream",
     "text": [
      "[[0 1 2 3]\n",
      " [0 1 2 3]\n",
      " [0 1 2 3]\n",
      " [0 1 2 3]\n",
      " [0 1 2 3]]\n"
     ]
    }
   ],
   "source": [
    "xx = np.array([range(4),range(4),range(4),range(4),range(4)])\n",
    "print xx"
   ]
  },
  {
   "cell_type": "code",
   "execution_count": 34,
   "metadata": {
    "collapsed": false
   },
   "outputs": [
    {
     "name": "stdout",
     "output_type": "stream",
     "text": [
      "[0 1 2 3 4]\n"
     ]
    }
   ],
   "source": [
    "ww = np.array(range(5))\n",
    "print ww"
   ]
  },
  {
   "cell_type": "code",
   "execution_count": 36,
   "metadata": {
    "collapsed": false
   },
   "outputs": [
    {
     "name": "stdout",
     "output_type": "stream",
     "text": [
      "[[0 1 2 3 4]\n",
      " [1 2 3 4 5]\n",
      " [2 3 4 5 6]\n",
      " [3 4 5 6 7]]\n"
     ]
    }
   ],
   "source": [
    "print xx.T + ww"
   ]
  },
  {
   "cell_type": "code",
   "execution_count": 37,
   "metadata": {
    "collapsed": false
   },
   "outputs": [
    {
     "name": "stdout",
     "output_type": "stream",
     "text": [
      "[[0 1 2 3]\n",
      " [1 2 3 4]\n",
      " [2 3 4 5]\n",
      " [3 4 5 6]\n",
      " [4 5 6 7]]\n"
     ]
    }
   ],
   "source": [
    "print (xx.T + ww).T"
   ]
  },
  {
   "cell_type": "code",
   "execution_count": null,
   "metadata": {
    "collapsed": true
   },
   "outputs": [],
   "source": []
  }
 ],
 "metadata": {
  "kernelspec": {
   "display_name": "Python 2",
   "language": "python",
   "name": "python2"
  },
  "language_info": {
   "codemirror_mode": {
    "name": "ipython",
    "version": 2
   },
   "file_extension": ".py",
   "mimetype": "text/x-python",
   "name": "python",
   "nbconvert_exporter": "python",
   "pygments_lexer": "ipython2",
   "version": "2.7.11"
  }
 },
 "nbformat": 4,
 "nbformat_minor": 0
}
